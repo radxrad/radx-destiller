{
 "cells": [
  {
   "cell_type": "markdown",
   "id": "2aefb215-3958-4ad7-ab5a-fb3b9123d17f",
   "metadata": {},
   "source": [
    "# Download the Full-Text Funding Opportunity Documents for the RADx-rad Program\n",
    "This notebook downloads and parses the core Funding Opportunity Announcement (FOA) for the RADx-rad program.\n",
    "\n",
    "**Author:** Peter W. Rose ([pwrose@ucsd.edu](mailto:pwrose@ucsd.edu))  \n",
    "**Date:** 2025-03-13"
   ]
  },
  {
   "cell_type": "code",
   "execution_count": 1,
   "id": "20624a9a-ff6e-4085-b43d-88b89956da49",
   "metadata": {},
   "outputs": [],
   "source": [
    "import os\n",
    "import requests\n",
    "import pandas as pd\n",
    "from bs4 import BeautifulSoup"
   ]
  },
  {
   "cell_type": "code",
   "execution_count": 2,
   "id": "34311fb3-5c1b-4806-a3f0-076e125b9703",
   "metadata": {},
   "outputs": [],
   "source": [
    "# Input files\n",
    "FOA_DIR = \"../data/funding_opportunities.csv\" # List of RADx-rad core funding opportunities\n",
    "# Output file directory\n",
    "DERIVED_DATA = \"../derived_data\""
   ]
  },
  {
   "cell_type": "markdown",
   "id": "62c27baf-e4e6-43f2-8255-489514dc4f1b",
   "metadata": {},
   "source": [
    "## Load the list of FOAs"
   ]
  },
  {
   "cell_type": "code",
   "execution_count": 3,
   "id": "c3104faf-4d88-4264-91a4-24ff58aa35b9",
   "metadata": {},
   "outputs": [
    {
     "data": {
      "text/html": [
       "<div>\n",
       "<style scoped>\n",
       "    .dataframe tbody tr th:only-of-type {\n",
       "        vertical-align: middle;\n",
       "    }\n",
       "\n",
       "    .dataframe tbody tr th {\n",
       "        vertical-align: top;\n",
       "    }\n",
       "\n",
       "    .dataframe thead th {\n",
       "        text-align: right;\n",
       "    }\n",
       "</style>\n",
       "<table border=\"1\" class=\"dataframe\">\n",
       "  <thead>\n",
       "    <tr style=\"text-align: right;\">\n",
       "      <th></th>\n",
       "      <th>id</th>\n",
       "      <th>name</th>\n",
       "      <th>url</th>\n",
       "      <th>sub_project</th>\n",
       "    </tr>\n",
       "  </thead>\n",
       "  <tbody>\n",
       "    <tr>\n",
       "      <th>0</th>\n",
       "      <td>RFA-OD-20-023</td>\n",
       "      <td>Emergency Awards: RADx-rad Predicting Viral-As...</td>\n",
       "      <td>https://grants.nih.gov/grants/guide/rfa-files/...</td>\n",
       "      <td>PreVAIL kIds</td>\n",
       "    </tr>\n",
       "    <tr>\n",
       "      <th>1</th>\n",
       "      <td>RFA-OD-20-022</td>\n",
       "      <td>Emergency Awards: Chemosensory Testing as a CO...</td>\n",
       "      <td>https://grants.nih.gov/grants/guide/rfa-files/...</td>\n",
       "      <td>Chemosensory Testing</td>\n",
       "    </tr>\n",
       "    <tr>\n",
       "      <th>2</th>\n",
       "      <td>RFA-OD-20-016</td>\n",
       "      <td>Emergency Awards: RADx-RAD Multimodal COVID-19...</td>\n",
       "      <td>https://grants.nih.gov/grants/guide/rfa-files/...</td>\n",
       "      <td>Multimodal Surveillance</td>\n",
       "    </tr>\n",
       "    <tr>\n",
       "      <th>3</th>\n",
       "      <td>RFA-OD-20-015</td>\n",
       "      <td>Emergency Awards: RADx-rad Wastewater Detectio...</td>\n",
       "      <td>https://grants.nih.gov/grants/guide/rfa-files/...</td>\n",
       "      <td>Wastewater</td>\n",
       "    </tr>\n",
       "    <tr>\n",
       "      <th>4</th>\n",
       "      <td>RFA-OD-20-014</td>\n",
       "      <td>Emergency Awards: Automatic Detection and Trac...</td>\n",
       "      <td>https://grants.nih.gov/grants/guide/rfa-files/...</td>\n",
       "      <td>Automatic Detection &amp; Tracing</td>\n",
       "    </tr>\n",
       "    <tr>\n",
       "      <th>5</th>\n",
       "      <td>RFA-OD-20-018</td>\n",
       "      <td>Emergency Awards: Exosome-based Non-traditiona...</td>\n",
       "      <td>https://grants.nih.gov/grants/guide/rfa-files/...</td>\n",
       "      <td>Exosome</td>\n",
       "    </tr>\n",
       "    <tr>\n",
       "      <th>6</th>\n",
       "      <td>RFA-OD-20-017</td>\n",
       "      <td>Emergency Awards RADx-RAD: Screening for COVID...</td>\n",
       "      <td>https://grants.nih.gov/grants/guide/rfa-files/...</td>\n",
       "      <td>SCENT</td>\n",
       "    </tr>\n",
       "    <tr>\n",
       "      <th>7</th>\n",
       "      <td>RFA-OD-20-021</td>\n",
       "      <td>Emergency Awards RADx-RAD: Novel Biosensing fo...</td>\n",
       "      <td>https://grants.nih.gov/grants/guide/rfa-files/...</td>\n",
       "      <td>Novel Biosensing and VOC</td>\n",
       "    </tr>\n",
       "  </tbody>\n",
       "</table>\n",
       "</div>"
      ],
      "text/plain": [
       "              id                                               name  \\\n",
       "0  RFA-OD-20-023  Emergency Awards: RADx-rad Predicting Viral-As...   \n",
       "1  RFA-OD-20-022  Emergency Awards: Chemosensory Testing as a CO...   \n",
       "2  RFA-OD-20-016  Emergency Awards: RADx-RAD Multimodal COVID-19...   \n",
       "3  RFA-OD-20-015  Emergency Awards: RADx-rad Wastewater Detectio...   \n",
       "4  RFA-OD-20-014  Emergency Awards: Automatic Detection and Trac...   \n",
       "5  RFA-OD-20-018  Emergency Awards: Exosome-based Non-traditiona...   \n",
       "6  RFA-OD-20-017  Emergency Awards RADx-RAD: Screening for COVID...   \n",
       "7  RFA-OD-20-021  Emergency Awards RADx-RAD: Novel Biosensing fo...   \n",
       "\n",
       "                                                 url  \\\n",
       "0  https://grants.nih.gov/grants/guide/rfa-files/...   \n",
       "1  https://grants.nih.gov/grants/guide/rfa-files/...   \n",
       "2  https://grants.nih.gov/grants/guide/rfa-files/...   \n",
       "3  https://grants.nih.gov/grants/guide/rfa-files/...   \n",
       "4  https://grants.nih.gov/grants/guide/rfa-files/...   \n",
       "5  https://grants.nih.gov/grants/guide/rfa-files/...   \n",
       "6  https://grants.nih.gov/grants/guide/rfa-files/...   \n",
       "7  https://grants.nih.gov/grants/guide/rfa-files/...   \n",
       "\n",
       "                     sub_project  \n",
       "0                   PreVAIL kIds  \n",
       "1           Chemosensory Testing  \n",
       "2        Multimodal Surveillance  \n",
       "3                     Wastewater  \n",
       "4  Automatic Detection & Tracing  \n",
       "5                        Exosome  \n",
       "6                          SCENT  \n",
       "7       Novel Biosensing and VOC  "
      ]
     },
     "execution_count": 3,
     "metadata": {},
     "output_type": "execute_result"
    }
   ],
   "source": [
    "foa_info = pd.read_csv(FOA_DIR)\n",
    "foa_info"
   ]
  },
  {
   "cell_type": "markdown",
   "id": "b2f512f3-299d-4dbf-a3f2-424bdb4f4d06",
   "metadata": {},
   "source": [
    "## Download, parse, and save each FOA in a separate file"
   ]
  },
  {
   "cell_type": "code",
   "execution_count": 4,
   "id": "b3155dac-8332-45ff-9c69-52818a723167",
   "metadata": {},
   "outputs": [],
   "source": [
    "def load_document_from_url(url):\n",
    "    response = requests.get(url)\n",
    "    html_content = response.text\n",
    "\n",
    "    # Parse the HTML document\n",
    "    soup = BeautifulSoup(html_content, 'html.parser')\n",
    "    # Extract all paragraphs\n",
    "    paragraphs = [p.get_text() for p in soup.find_all('p')]\n",
    "    return \"/n\".join(paragraphs)"
   ]
  },
  {
   "cell_type": "code",
   "execution_count": 5,
   "id": "d05a3104-7202-48c9-ac42-223afec40bea",
   "metadata": {},
   "outputs": [],
   "source": [
    "def get_foa_full_text(row): \n",
    "    url = row[\"url\"]\n",
    "    identifier = row[\"id\"]\n",
    "    sub_project = row[\"sub_project\"]\n",
    "\n",
    "    print(f\"parsing: {identifier}\")\n",
    "\n",
    "    result_path = os.path.join(DERIVED_DATA, \"foas\")\n",
    "    os.makedirs(result_path, exist_ok=True)\n",
    "\n",
    "    result_file = os.path.join(result_path, f\"{sub_project}.csv\")\n",
    "    if os.path.isfile(result_file):\n",
    "        return\n",
    "        \n",
    "    text = load_document_from_url(url)\n",
    "    # Remove colons, they sometimes mislead the LLM\n",
    "    text = text.replace(\":\", \" \")\n",
    "\n",
    "    result_data = {\n",
    "        'summary': [text],\n",
    "    }\n",
    "    pub_data = row.to_dict()\n",
    "    merged_data = pub_data | result_data\n",
    "\n",
    "    # Create the DataFrame\n",
    "    df = pd.DataFrame(merged_data)\n",
    "    df.to_csv(result_file, index=False)\n",
    "\n",
    "    print(f\"Saving {sub_project} FOA to: {result_file}\")\n",
    "    return"
   ]
  },
  {
   "cell_type": "code",
   "execution_count": 6,
   "id": "df59767d-4158-4180-b05f-25f5f5ef4f3e",
   "metadata": {},
   "outputs": [
    {
     "name": "stdout",
     "output_type": "stream",
     "text": [
      "parsing: RFA-OD-20-023\n",
      "parsing: RFA-OD-20-022\n",
      "parsing: RFA-OD-20-016\n",
      "parsing: RFA-OD-20-015\n",
      "parsing: RFA-OD-20-014\n",
      "parsing: RFA-OD-20-018\n",
      "parsing: RFA-OD-20-017\n",
      "parsing: RFA-OD-20-021\n"
     ]
    }
   ],
   "source": [
    "_ = foa_info.apply(get_foa_full_text, axis=1)"
   ]
  }
 ],
 "metadata": {
  "kernelspec": {
   "display_name": "Python 3 (ipykernel)",
   "language": "python",
   "name": "python3"
  },
  "language_info": {
   "codemirror_mode": {
    "name": "ipython",
    "version": 3
   },
   "file_extension": ".py",
   "mimetype": "text/x-python",
   "name": "python",
   "nbconvert_exporter": "python",
   "pygments_lexer": "ipython3",
   "version": "3.10.16"
  }
 },
 "nbformat": 4,
 "nbformat_minor": 5
}
