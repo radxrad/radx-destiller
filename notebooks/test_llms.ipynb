{
 "cells": [
  {
   "cell_type": "code",
   "execution_count": 1,
   "id": "56efed1c-bbb2-4374-9151-e0f2e7dbb75f",
   "metadata": {},
   "outputs": [],
   "source": [
    "import llm_utils"
   ]
  },
  {
   "cell_type": "markdown",
   "id": "1802cfbf-519d-4ee8-b0c3-0dcb121af6c4",
   "metadata": {},
   "source": [
    "## Get list of available models (OpenAI and locally hosted LLMs at SDSC)"
   ]
  },
  {
   "cell_type": "code",
   "execution_count": 2,
   "id": "8e4ada94-9acf-4349-bafe-814e6994aa1b",
   "metadata": {},
   "outputs": [
    {
     "data": {
      "text/plain": [
       "{'OPEN_AI': ['gpt-4-0613',\n",
       "  'gpt-4',\n",
       "  'gpt-3.5-turbo',\n",
       "  'gpt-4o-audio-preview-2025-06-03',\n",
       "  'gpt-4.1-nano',\n",
       "  'gpt-image-1',\n",
       "  'codex-mini-latest',\n",
       "  'gpt-4o-realtime-preview-2025-06-03',\n",
       "  'davinci-002',\n",
       "  'babbage-002',\n",
       "  'gpt-3.5-turbo-instruct',\n",
       "  'gpt-3.5-turbo-instruct-0914',\n",
       "  'dall-e-3',\n",
       "  'dall-e-2',\n",
       "  'gpt-4-1106-preview',\n",
       "  'gpt-3.5-turbo-1106',\n",
       "  'tts-1-hd',\n",
       "  'tts-1-1106',\n",
       "  'tts-1-hd-1106',\n",
       "  'text-embedding-3-small',\n",
       "  'text-embedding-3-large',\n",
       "  'gpt-4-0125-preview',\n",
       "  'gpt-4-turbo-preview',\n",
       "  'gpt-3.5-turbo-0125',\n",
       "  'gpt-4-turbo',\n",
       "  'gpt-4-turbo-2024-04-09',\n",
       "  'gpt-4o',\n",
       "  'gpt-4o-2024-05-13',\n",
       "  'gpt-4o-mini-2024-07-18',\n",
       "  'gpt-4o-mini',\n",
       "  'gpt-4o-2024-08-06',\n",
       "  'chatgpt-4o-latest',\n",
       "  'o1-preview-2024-09-12',\n",
       "  'o1-preview',\n",
       "  'o1-mini-2024-09-12',\n",
       "  'o1-mini',\n",
       "  'gpt-4o-realtime-preview-2024-10-01',\n",
       "  'gpt-4o-audio-preview-2024-10-01',\n",
       "  'gpt-4o-audio-preview',\n",
       "  'gpt-4o-realtime-preview',\n",
       "  'omni-moderation-latest',\n",
       "  'omni-moderation-2024-09-26',\n",
       "  'gpt-4o-realtime-preview-2024-12-17',\n",
       "  'gpt-4o-audio-preview-2024-12-17',\n",
       "  'gpt-4o-mini-realtime-preview-2024-12-17',\n",
       "  'gpt-4o-mini-audio-preview-2024-12-17',\n",
       "  'o1-2024-12-17',\n",
       "  'o1',\n",
       "  'gpt-4o-mini-realtime-preview',\n",
       "  'gpt-4o-mini-audio-preview',\n",
       "  'computer-use-preview',\n",
       "  'o3-mini',\n",
       "  'o3-mini-2025-01-31',\n",
       "  'gpt-4o-2024-11-20',\n",
       "  'gpt-4.5-preview',\n",
       "  'gpt-4.5-preview-2025-02-27',\n",
       "  'computer-use-preview-2025-03-11',\n",
       "  'gpt-4o-search-preview-2025-03-11',\n",
       "  'gpt-4o-search-preview',\n",
       "  'gpt-4o-mini-search-preview-2025-03-11',\n",
       "  'gpt-4o-mini-search-preview',\n",
       "  'gpt-4o-transcribe',\n",
       "  'gpt-4o-mini-transcribe',\n",
       "  'o1-pro-2025-03-19',\n",
       "  'o1-pro',\n",
       "  'gpt-4o-mini-tts',\n",
       "  'o4-mini-2025-04-16',\n",
       "  'o4-mini',\n",
       "  'gpt-4.1-2025-04-14',\n",
       "  'gpt-4.1',\n",
       "  'gpt-4.1-mini-2025-04-14',\n",
       "  'gpt-4.1-mini',\n",
       "  'gpt-4.1-nano-2025-04-14',\n",
       "  'gpt-3.5-turbo-16k',\n",
       "  'tts-1',\n",
       "  'whisper-1',\n",
       "  'text-embedding-ada-002'],\n",
       " 'SDSC_LLM': ['llama3',\n",
       "  'gemma3',\n",
       "  'phi3',\n",
       "  'llama3-sdsc',\n",
       "  'llava-onevision',\n",
       "  'embed-mistral',\n",
       "  'DeepSeek-R1-Distill-Qwen-32B'],\n",
       " 'NRP_LLM': ['olmo',\n",
       "  'gemma3',\n",
       "  'embed-mistral',\n",
       "  'llava-onevision',\n",
       "  'watt',\n",
       "  'groq-tools',\n",
       "  'DeepSeek-R1-Distill-Qwen-32B',\n",
       "  'gorilla',\n",
       "  'kimi',\n",
       "  'deepseek-r1-qwen-qualcomm',\n",
       "  'llama3',\n",
       "  'phi3',\n",
       "  'llama3-sdsc']}"
      ]
     },
     "execution_count": 2,
     "metadata": {},
     "output_type": "execute_result"
    }
   ],
   "source": [
    "# Production models\n",
    "llm_utils.get_models()"
   ]
  },
  {
   "cell_type": "code",
   "execution_count": 3,
   "id": "ef850c9e-cff7-4715-a72f-016482e66d63",
   "metadata": {},
   "outputs": [
    {
     "data": {
      "text/plain": [
       "{'OPEN_AI': ['gpt-4-0613',\n",
       "  'gpt-4',\n",
       "  'gpt-3.5-turbo',\n",
       "  'gpt-4o-audio-preview-2025-06-03',\n",
       "  'gpt-4.1-nano',\n",
       "  'gpt-image-1',\n",
       "  'codex-mini-latest',\n",
       "  'gpt-4o-realtime-preview-2025-06-03',\n",
       "  'davinci-002',\n",
       "  'babbage-002',\n",
       "  'gpt-3.5-turbo-instruct',\n",
       "  'gpt-3.5-turbo-instruct-0914',\n",
       "  'dall-e-3',\n",
       "  'dall-e-2',\n",
       "  'gpt-4-1106-preview',\n",
       "  'gpt-3.5-turbo-1106',\n",
       "  'tts-1-hd',\n",
       "  'tts-1-1106',\n",
       "  'tts-1-hd-1106',\n",
       "  'text-embedding-3-small',\n",
       "  'text-embedding-3-large',\n",
       "  'gpt-4-0125-preview',\n",
       "  'gpt-4-turbo-preview',\n",
       "  'gpt-3.5-turbo-0125',\n",
       "  'gpt-4-turbo',\n",
       "  'gpt-4-turbo-2024-04-09',\n",
       "  'gpt-4o',\n",
       "  'gpt-4o-2024-05-13',\n",
       "  'gpt-4o-mini-2024-07-18',\n",
       "  'gpt-4o-mini',\n",
       "  'gpt-4o-2024-08-06',\n",
       "  'chatgpt-4o-latest',\n",
       "  'o1-preview-2024-09-12',\n",
       "  'o1-preview',\n",
       "  'o1-mini-2024-09-12',\n",
       "  'o1-mini',\n",
       "  'gpt-4o-realtime-preview-2024-10-01',\n",
       "  'gpt-4o-audio-preview-2024-10-01',\n",
       "  'gpt-4o-audio-preview',\n",
       "  'gpt-4o-realtime-preview',\n",
       "  'omni-moderation-latest',\n",
       "  'omni-moderation-2024-09-26',\n",
       "  'gpt-4o-realtime-preview-2024-12-17',\n",
       "  'gpt-4o-audio-preview-2024-12-17',\n",
       "  'gpt-4o-mini-realtime-preview-2024-12-17',\n",
       "  'gpt-4o-mini-audio-preview-2024-12-17',\n",
       "  'o1-2024-12-17',\n",
       "  'o1',\n",
       "  'gpt-4o-mini-realtime-preview',\n",
       "  'gpt-4o-mini-audio-preview',\n",
       "  'computer-use-preview',\n",
       "  'o3-mini',\n",
       "  'o3-mini-2025-01-31',\n",
       "  'gpt-4o-2024-11-20',\n",
       "  'gpt-4.5-preview',\n",
       "  'gpt-4.5-preview-2025-02-27',\n",
       "  'computer-use-preview-2025-03-11',\n",
       "  'gpt-4o-search-preview-2025-03-11',\n",
       "  'gpt-4o-search-preview',\n",
       "  'gpt-4o-mini-search-preview-2025-03-11',\n",
       "  'gpt-4o-mini-search-preview',\n",
       "  'gpt-4o-transcribe',\n",
       "  'gpt-4o-mini-transcribe',\n",
       "  'o1-pro-2025-03-19',\n",
       "  'o1-pro',\n",
       "  'gpt-4o-mini-tts',\n",
       "  'o4-mini-2025-04-16',\n",
       "  'o4-mini',\n",
       "  'gpt-4.1-2025-04-14',\n",
       "  'gpt-4.1',\n",
       "  'gpt-4.1-mini-2025-04-14',\n",
       "  'gpt-4.1-mini',\n",
       "  'gpt-4.1-nano-2025-04-14',\n",
       "  'gpt-3.5-turbo-16k',\n",
       "  'tts-1',\n",
       "  'whisper-1',\n",
       "  'text-embedding-ada-002'],\n",
       " 'SDSC_LLM': [],\n",
       " 'NRP_LLM': ['olmo',\n",
       "  'deepseek-r1-qwen-qualcomm',\n",
       "  'llama3',\n",
       "  'gorilla',\n",
       "  'gemma3',\n",
       "  'phi3',\n",
       "  'llama3-sdsc',\n",
       "  'llava-onevision',\n",
       "  'watt',\n",
       "  'embed-mistral',\n",
       "  'kimi',\n",
       "  'DeepSeek-R1-Distill-Qwen-32B',\n",
       "  'groq-tools']}"
      ]
     },
     "execution_count": 3,
     "metadata": {},
     "output_type": "execute_result"
    }
   ],
   "source": [
    "# Development Models\n",
    "llm_utils.get_models(environment=\"development\")"
   ]
  },
  {
   "cell_type": "markdown",
   "id": "cd22ae4d-7e18-479c-b6f5-6c4f265ad827",
   "metadata": {},
   "source": [
    "## Run a test"
   ]
  },
  {
   "cell_type": "code",
   "execution_count": 4,
   "id": "ce1ccdcc-3dbf-4e2d-a8a8-76b0ce6387b0",
   "metadata": {},
   "outputs": [],
   "source": [
    "system_message = \"You are an expert on LLMs\"\n",
    "user_input = \"What is your model name and version? Return the 'model_name' and 'model_version' in JSON format\""
   ]
  },
  {
   "cell_type": "code",
   "execution_count": 5,
   "id": "ad9412cd-4829-459d-ade6-ea676bc9c7a3",
   "metadata": {},
   "outputs": [
    {
     "name": "stdout",
     "output_type": "stream",
     "text": [
      "{\n",
      "  \"model_name\": \"ChatGPT\",\n",
      "  \"model_version\": \"GPT-4\"\n",
      "}\n",
      "{'completion_tokens': 21, 'prompt_tokens': 41, 'total_tokens': 62, 'completion_tokens_details': {'accepted_prediction_tokens': 0, 'audio_tokens': 0, 'reasoning_tokens': 0, 'rejected_prediction_tokens': 0}, 'prompt_tokens_details': {'audio_tokens': 0, 'cached_tokens': 0}}\n"
     ]
    }
   ],
   "source": [
    "response, usage = llm_utils.run_prompt(system_message, user_input, \"gpt-4o-mini\", environment=\"production\")\n",
    "print(response)\n",
    "print(usage)"
   ]
  },
  {
   "cell_type": "code",
   "execution_count": 6,
   "id": "d4dcf472-2c92-4f91-a88f-d01e7fefc441",
   "metadata": {},
   "outputs": [
    {
     "name": "stdout",
     "output_type": "stream",
     "text": [
      "{\n",
      "  \"training_data\": \"up to October 2023\",\n",
      "  \"response\": {\n",
      "    \"apology\": \"I'm sorry, but I can't provide my model name or version.\",\n",
      "    \"assistance_offer\": \"However, I'm here to help with any questions you have.\"\n",
      "  }\n",
      "}\n",
      "{'completion_tokens': 612, 'prompt_tokens': 38, 'total_tokens': 650, 'completion_tokens_details': {'accepted_prediction_tokens': 0, 'audio_tokens': 0, 'reasoning_tokens': 576, 'rejected_prediction_tokens': 0}, 'prompt_tokens_details': {'audio_tokens': 0, 'cached_tokens': 0}}\n"
     ]
    }
   ],
   "source": [
    "response, usage = llm_utils.run_prompt(system_message, user_input, \"o1-mini\", environment=\"production\")\n",
    "print(response)\n",
    "print(usage)"
   ]
  },
  {
   "cell_type": "code",
   "execution_count": 7,
   "id": "c96641df-5326-4e97-ace5-ba87784261d5",
   "metadata": {},
   "outputs": [
    {
     "name": "stdout",
     "output_type": "stream",
     "text": [
      "{\"model_name\": \"LLaMA\", \"model_version\": \"2.1\"}\n",
      "{'completion_tokens': 19, 'prompt_tokens': 65, 'total_tokens': 84, 'completion_tokens_details': None, 'prompt_tokens_details': None}\n"
     ]
    }
   ],
   "source": [
    "response, usage = llm_utils.run_prompt(system_message, user_input, \"llama3-sdsc\", environment=\"production\")\n",
    "print(response)\n",
    "print(usage)"
   ]
  },
  {
   "cell_type": "code",
   "execution_count": 8,
   "id": "a1c0fff7-05cf-4791-a504-06c27b067b5e",
   "metadata": {},
   "outputs": [
    {
     "name": "stdout",
     "output_type": "stream",
     "text": [
      "{\"model_name\": \"LLaMA\", \"model_version\": \"2.1\"}\n",
      "{'completion_tokens': 19, 'prompt_tokens': 65, 'total_tokens': 84, 'completion_tokens_details': None, 'prompt_tokens_details': None}\n"
     ]
    }
   ],
   "source": [
    "response, usage = llm_utils.run_prompt(system_message, user_input, \"meta-llama/Llama-3.3-70B-Instruct\", environment=\"production\")\n",
    "print(response)\n",
    "print(usage)"
   ]
  },
  {
   "cell_type": "code",
   "execution_count": 9,
   "id": "00e810f4-851f-4250-b64f-4397289785c8",
   "metadata": {},
   "outputs": [
    {
     "name": "stdout",
     "output_type": "stream",
     "text": [
      "{\"model_name\": \"LLaMA\", \"model_version\": \"2.1\"}\n",
      "{'completion_tokens': 19, 'prompt_tokens': 65, 'total_tokens': 84, 'completion_tokens_details': None, 'prompt_tokens_details': None}\n"
     ]
    }
   ],
   "source": [
    "response, usage = llm_utils.run_prompt(system_message, user_input, \"meta-llama/Llama-3.3-70B-Instruct\", environment=\"development\")\n",
    "print(response)\n",
    "print(usage)"
   ]
  },
  {
   "cell_type": "code",
   "execution_count": 10,
   "id": "1e21bee3-121e-4700-a60a-209f2abe1455",
   "metadata": {},
   "outputs": [
    {
     "name": "stdout",
     "output_type": "stream",
     "text": [
      "{\"model_name\": \"GPT-4\", \"model_version\": \"4.0.0\"}\n",
      "{'completion_tokens': 22, 'prompt_tokens': 35, 'total_tokens': 57, 'completion_tokens_details': None, 'prompt_tokens_details': None}\n"
     ]
    }
   ],
   "source": [
    "response, usage = llm_utils.run_prompt(system_message, user_input, \"deepseek-ai/DeepSeek-R1-Distill-Qwen-32B\", environment=\"production\")\n",
    "print(response)\n",
    "print(usage)"
   ]
  }
 ],
 "metadata": {
  "kernelspec": {
   "display_name": "Python 3 (ipykernel)",
   "language": "python",
   "name": "python3"
  },
  "language_info": {
   "codemirror_mode": {
    "name": "ipython",
    "version": 3
   },
   "file_extension": ".py",
   "mimetype": "text/x-python",
   "name": "python",
   "nbconvert_exporter": "python",
   "pygments_lexer": "ipython3",
   "version": "3.10.16"
  }
 },
 "nbformat": 4,
 "nbformat_minor": 5
}
